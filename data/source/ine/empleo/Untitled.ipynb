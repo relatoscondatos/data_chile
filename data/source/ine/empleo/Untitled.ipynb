{
 "cells": [
  {
   "cell_type": "code",
   "execution_count": 29,
   "id": "a2b0d291",
   "metadata": {},
   "outputs": [],
   "source": [
    "import os\n",
    "import pandas as pd\n",
    "import requests\n",
    "from collections import defaultdict\n"
   ]
  },
  {
   "cell_type": "code",
   "execution_count": 3,
   "id": "bf743355",
   "metadata": {},
   "outputs": [],
   "source": [
    "# Create directories if they don't exist\n",
    "source_dir = \".\"\n",
    "parquet_dir = \"../../../processed/ine/empleo/\"\n"
   ]
  },
  {
   "cell_type": "code",
   "execution_count": 4,
   "id": "e5cff364",
   "metadata": {},
   "outputs": [],
   "source": [
    "os.makedirs(source_dir, exist_ok=True)\n",
    "os.makedirs(parquet_dir, exist_ok=True)\n"
   ]
  },
  {
   "cell_type": "code",
   "execution_count": 38,
   "id": "0a0c6e55",
   "metadata": {},
   "outputs": [],
   "source": [
    "# List of file URLs\n",
    "file_urls = [\n",
    "    \"https://www.ine.gob.cl/docs/default-source/ocupacion-y-desocupacion/bbdd/2024/csv/ene-2024-04-mam.csv\",\n",
    "    \"https://www.ine.gob.cl/docs/default-source/ocupacion-y-desocupacion/bbdd/2024/csv/ene-2024-03-fma.csv\",\n",
    "    \"https://www.ine.gob.cl/docs/default-source/ocupacion-y-desocupacion/bbdd/2023/csv/ene-2023-04-mam.csv\",\n",
    "    \"https://www.ine.gob.cl/docs/default-source/ocupacion-y-desocupacion/bbdd/2023/csv/ene-2023-03-fma.csv\",\n",
    "    \"https://www.ine.gob.cl/docs/default-source/ocupacion-y-desocupacion/bbdd/2022/csv/ene-2022-04-mam.csv\",\n",
    "    \"https://www.ine.gob.cl/docs/default-source/ocupacion-y-desocupacion/bbdd/2022/csv/ene-2022-03-fma.csv\",\n",
    "    \"https://www.ine.gob.cl/docs/default-source/ocupacion-y-desocupacion/bbdd/2021/csv/ene-2021-04-mam.csv\",\n",
    "    \"https://www.ine.gob.cl/docs/default-source/ocupacion-y-desocupacion/bbdd/2020/csv/ene-2020-04-mam.csv\",\n",
    "    \"https://www.ine.gob.cl/docs/default-source/ocupacion-y-desocupacion/bbdd/2019/csv/ene-2019-04-mam.csv\",\n",
    " \n",
    "    # Add more URLs as needed\n",
    "]\n"
   ]
  },
  {
   "cell_type": "code",
   "execution_count": 39,
   "id": "08e13b1c",
   "metadata": {},
   "outputs": [],
   "source": [
    "# Function to download a file from a URL\n",
    "def download_file(url, save_path):\n",
    "    response = requests.get(url)\n",
    "    if response.status_code == 200:\n",
    "        with open(save_path, 'wb') as f:\n",
    "            f.write(response.content)\n",
    "    else:\n",
    "        print(f\"Failed to download file from {url}\")\n",
    "\n"
   ]
  },
  {
   "cell_type": "code",
   "execution_count": 40,
   "id": "d88f526b",
   "metadata": {},
   "outputs": [],
   "source": [
    "delimiter = \";\""
   ]
  },
  {
   "cell_type": "code",
   "execution_count": 41,
   "id": "90c87a07",
   "metadata": {},
   "outputs": [],
   "source": [
    "# Function to read a file with a specified encoding and handle errors\n",
    "def read_csv_file(file_path, encoding='utf-8'):\n",
    "    try:\n",
    "        return pd.read_csv(file_path, sep=delimiter, encoding=encoding,index_col=False, low_memory=False)\n",
    "    except UnicodeDecodeError:\n",
    "        print(f\"Encoding error with {file_path}, trying ISO-8859-1\")\n",
    "        return pd.read_csv(file_path, sep=delimiter,  encoding='ISO-8859-1',index_col=False, low_memory=False)\n"
   ]
  },
  {
   "cell_type": "code",
   "execution_count": 42,
   "id": "8e767ff3",
   "metadata": {},
   "outputs": [],
   "source": [
    "# Function to convert CSV to Parquet\n",
    "def convert_csv_to_parquet(csv_path, parquet_path):\n",
    "    df = read_csv_file(csv_path)\n",
    "    df.to_parquet(parquet_path)\n"
   ]
  },
  {
   "cell_type": "code",
   "execution_count": 47,
   "id": "4e86e5af",
   "metadata": {},
   "outputs": [],
   "source": [
    "# Function to preprocess the \"fact_cal\" field\n",
    "def preprocess_fact_cal(df):\n",
    "    if 'fact_cal' in df.columns:\n",
    "        df['fact_cal'] = df['fact_cal'].str.replace(',', '.').astype(float)\n",
    "    return df\n"
   ]
  },
  {
   "cell_type": "code",
   "execution_count": 48,
   "id": "812e2c78",
   "metadata": {},
   "outputs": [],
   "source": [
    "# Dictionary to store DataFrames for each trimester\n",
    "trimester_data = defaultdict(pd.DataFrame)\n"
   ]
  },
  {
   "cell_type": "code",
   "execution_count": 49,
   "id": "c7c4d018",
   "metadata": {},
   "outputs": [
    {
     "name": "stdout",
     "output_type": "stream",
     "text": [
      "ene-2024-04-mam.csv already exists. Skipping download.\n",
      "Added ene-2024-04-mam.csv to the trimester 04-mam DataFrame.\n",
      "ene-2024-03-fma.csv already exists. Skipping download.\n",
      "Added ene-2024-03-fma.csv to the trimester 03-fma DataFrame.\n",
      "ene-2023-04-mam.csv already exists. Skipping download.\n",
      "Added ene-2023-04-mam.csv to the trimester 04-mam DataFrame.\n",
      "ene-2023-03-fma.csv already exists. Skipping download.\n",
      "Added ene-2023-03-fma.csv to the trimester 03-fma DataFrame.\n",
      "ene-2022-04-mam.csv already exists. Skipping download.\n",
      "Added ene-2022-04-mam.csv to the trimester 04-mam DataFrame.\n",
      "ene-2022-03-fma.csv already exists. Skipping download.\n",
      "Added ene-2022-03-fma.csv to the trimester 03-fma DataFrame.\n",
      "ene-2021-04-mam.csv already exists. Skipping download.\n",
      "Encoding error with ./ene-2021-04-mam.csv, trying ISO-8859-1\n",
      "Added ene-2021-04-mam.csv to the trimester 04-mam DataFrame.\n",
      "ene-2020-04-mam.csv already exists. Skipping download.\n",
      "Added ene-2020-04-mam.csv to the trimester 04-mam DataFrame.\n",
      "ene-2019-04-mam.csv already exists. Skipping download.\n",
      "Encoding error with ./ene-2019-04-mam.csv, trying ISO-8859-1\n",
      "Added ene-2019-04-mam.csv to the trimester 04-mam DataFrame.\n"
     ]
    }
   ],
   "source": [
    "# Download files and group by trimester\n",
    "for url in file_urls:\n",
    "    # Extract filename from URL\n",
    "    filename = url.split('/')[-1]\n",
    "    csv_path = os.path.join(source_dir, filename)\n",
    "    \n",
    "    # Check if the file already exists\n",
    "    if not os.path.exists(csv_path):\n",
    "        # Download the CSV file if it doesn't exist\n",
    "        download_file(url, csv_path)\n",
    "        print(f\"Downloaded {filename}\")\n",
    "    else:\n",
    "        print(f\"{filename} already exists. Skipping download.\")\n",
    "    \n",
    "    # Read the CSV file\n",
    "    df = read_csv_file(csv_path)\n",
    "    \n",
    "    # Preprocess the \"fact_cal\" field\n",
    "    df = preprocess_fact_cal(df)\n",
    "    \n",
    "    # Extract trimester info (e.g., \"04-mam\" from \"ene-2024-04-mam.csv\")\n",
    "    trimester = '-'.join(filename.split('-')[2:4]).split('.')[0]\n",
    "    \n",
    "    # Append data to the corresponding trimester DataFrame\n",
    "    trimester_data[trimester] = pd.concat([trimester_data[trimester], df], ignore_index=True)\n",
    "    \n",
    "    print(f\"Added {filename} to the trimester {trimester} DataFrame.\")\n"
   ]
  },
  {
   "cell_type": "code",
   "execution_count": 50,
   "id": "b248c497",
   "metadata": {},
   "outputs": [
    {
     "name": "stdout",
     "output_type": "stream",
     "text": [
      "Merged DataFrame for trimester 04-mam saved to ../../../processed/ine/empleo/ene-04-mam.parquet\n",
      "Merged DataFrame for trimester 03-fma saved to ../../../processed/ine/empleo/ene-03-fma.parquet\n"
     ]
    }
   ],
   "source": [
    "# Save each trimester DataFrame as a Parquet file\n",
    "for trimester, df in trimester_data.items():\n",
    "    parquet_path = os.path.join(parquet_dir, f\"ene-{trimester}.parquet\")\n",
    "    df.to_parquet(parquet_path)\n",
    "    print(f\"Merged DataFrame for trimester {trimester} saved to {parquet_path}\")\n"
   ]
  },
  {
   "cell_type": "code",
   "execution_count": null,
   "id": "42e36bb8",
   "metadata": {},
   "outputs": [],
   "source": []
  }
 ],
 "metadata": {
  "kernelspec": {
   "display_name": "Python 3 (ipykernel)",
   "language": "python",
   "name": "python3"
  },
  "language_info": {
   "codemirror_mode": {
    "name": "ipython",
    "version": 3
   },
   "file_extension": ".py",
   "mimetype": "text/x-python",
   "name": "python",
   "nbconvert_exporter": "python",
   "pygments_lexer": "ipython3",
   "version": "3.11.7"
  }
 },
 "nbformat": 4,
 "nbformat_minor": 5
}
