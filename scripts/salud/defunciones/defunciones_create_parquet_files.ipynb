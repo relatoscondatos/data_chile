{
 "cells": [
  {
   "cell_type": "code",
   "execution_count": 13,
   "id": "5ffcc875",
   "metadata": {},
   "outputs": [],
   "source": [
    "import os\n",
    "import sys\n",
    "import pandas as pd\n"
   ]
  },
  {
   "cell_type": "code",
   "execution_count": 21,
   "id": "42a291bd",
   "metadata": {},
   "outputs": [],
   "source": [
    "# Check if running in the GitHub Actions environment\n",
    "if 'GITHUB_ACTIONS' in os.environ:\n",
    "    project_path = os.getcwd()\n",
    "else:\n",
    "    # Assuming your script is in the 'scripts' directory\n",
    "    project_path = os.path.abspath(os.path.join(os.getcwd(), '../../..'))\n",
    "\n",
    "# Add the project directory to the PYTHONPATH if it's not already there\n",
    "if project_path not in sys.path:\n",
    "    sys.path.append(project_path)\n",
    "\n",
    "# Now you can import your custom module\n",
    "from data_utils.data_processing import download_file, process_zip_file\n"
   ]
  },
  {
   "cell_type": "code",
   "execution_count": 23,
   "id": "98c0c8fa",
   "metadata": {},
   "outputs": [],
   "source": [
    "# Define headers for CSV files without headers\n",
    "DEFAULT_HEADERS = [\n",
    "    \"AÑO\", \"FECHA_DEF\", \"SEXO_NOMBRE\", \"EDAD_TIPO\", \"EDAD_CANT\", \"COD_COMUNA\", \"COMUNA\", \"NOMBRE_REGION\",\n",
    "    \"DIAG1\", \"CAPITULO_DIAG1\", \"GLOSA_CAPITULO_DIAG1\", \"CODIGO_GRUPO_DIAG1\", \"GLOSA_GRUPO_DIAG1\",\n",
    "    \"CODIGO_CATEGORIA_DIAG1\", \"GLOSA_CATEGORIA_DIAG1\", \"CODIGO_SUBCATEGORIA_DIAG1\", \"GLOSA_SUBCATEGORIA_DIAG1\",\n",
    "    \"DIAG2\", \"CAPITULO_DIAG2\", \"GLOSA_CAPITULO_DIAG2\", \"CODIGO_GRUPO_DIAG2\", \"GLOSA_GRUPO_DIAG2\",\n",
    "    \"CODIGO_CATEGORIA_DIAG2\", \"GLOSA_CATEGORIA_DIAG2\", \"CODIGO_SUBCATEGORIA_DIAG2\", \"GLOSA_SUBCATEGORIA_DIAG2\",\n",
    "    \"LUGAR_DEFUNCION\"\n",
    "]\n"
   ]
  },
  {
   "cell_type": "code",
   "execution_count": 24,
   "id": "2f26ff4f",
   "metadata": {},
   "outputs": [],
   "source": [
    "def get_data_paths():\n",
    "    # Check if running in the GitHub Actions environment\n",
    "    if 'GITHUB_ACTIONS' in os.environ:\n",
    "        base_path = os.path.join(os.getcwd(), 'data')\n",
    "    else:\n",
    "        # Assuming your script is in the 'scripts' directory\n",
    "        base_path = os.path.abspath(os.path.join(os.getcwd(), '../../../data'))\n",
    "\n",
    "    source_path = os.path.join(base_path, \"source/salud/defunciones\")\n",
    "    processed_path = os.path.join(base_path, \"processed/salud/defunciones\")\n",
    "    \n",
    "    return source_path, processed_path"
   ]
  },
  {
   "cell_type": "code",
   "execution_count": 25,
   "id": "8416c586",
   "metadata": {},
   "outputs": [],
   "source": [
    "# Create directories if they don't exist\n",
    "source_dir, processed_dir = get_data_paths()\n",
    "os.makedirs(source_dir, exist_ok=True)\n",
    "os.makedirs(processed_dir, exist_ok=True)\n",
    "\n"
   ]
  },
  {
   "cell_type": "code",
   "execution_count": 26,
   "id": "95493109",
   "metadata": {},
   "outputs": [],
   "source": [
    "# List of file URLs and corresponding CSV filenames to extract\n",
    "file_info = [\n",
    "    (\"https://repositoriodeis.minsal.cl/DatosAbiertos/VITALES/DEFUNCIONES_FUENTE_DEIS_2022_2024_25062024.zip\", \"DEFUNCIONES_FUENTE_DEIS_2022_2024_25062024.csv\"),\n",
    "    (\"https://repositoriodeis.minsal.cl/DatosAbiertos/VITALES/DEFUNCIONES_FUENTE_DEIS_1990_2021_CIFRAS_OFICIALES.zip\", \"DEFUNCIONES_FUENTE_DEIS_1990_2021_CIFRAS_OFICIALES.csv\")\n",
    "]\n",
    "\n"
   ]
  },
  {
   "cell_type": "code",
   "execution_count": 28,
   "id": "6bd1849a",
   "metadata": {
    "scrolled": false
   },
   "outputs": [
    {
     "name": "stdout",
     "output_type": "stream",
     "text": [
      "Downloaded DEFUNCIONES_FUENTE_DEIS_2022_2024_25062024.zip\n",
      "Detected encoding for /tmp/DEFUNCIONES_FUENTE_DEIS_2022_2024_25062024.csv: ISO-8859-1\n",
      "Successfully read file with encoding ISO-8859-1\n",
      "Processed DEFUNCIONES_FUENTE_DEIS_2022_2024_25062024.csv and saved to /Users/ernestolaval/Documents/Github Repositories/data_chile/data/processed/salud/defunciones/DEFUNCIONES_FUENTE_DEIS_2022_2024_25062024.parquet\n",
      "DEFUNCIONES_FUENTE_DEIS_1990_2021_CIFRAS_OFICIALES.zip already exists. Skipping download.\n",
      "Detected encoding for /tmp/DEFUNCIONES_FUENTE_DEIS_1990_2021_CIFRAS_OFICIALES.csv: ISO-8859-1\n",
      "Successfully read file with encoding ISO-8859-1\n",
      "Processed DEFUNCIONES_FUENTE_DEIS_1990_2021_CIFRAS_OFICIALES.csv and saved to /Users/ernestolaval/Documents/Github Repositories/data_chile/data/processed/salud/defunciones/DEFUNCIONES_FUENTE_DEIS_1990_2021_CIFRAS_OFICIALES.parquet\n"
     ]
    }
   ],
   "source": [
    "# Process each zip file\n",
    "for url, extract_filename in file_info:\n",
    "    header_option = None if '2022_2024' in extract_filename else 'infer'\n",
    "    names_option = None if header_option == 'infer' else DEFAULT_HEADERS\n",
    "    process_zip_file(url, extract_filename, source_dir, processed_dir, header=header_option, names=names_option)\n",
    "\n"
   ]
  },
  {
   "cell_type": "code",
   "execution_count": 29,
   "id": "e93d0b22",
   "metadata": {},
   "outputs": [
    {
     "name": "stdout",
     "output_type": "stream",
     "text": [
      "Combined and filtered DataFrame saved to /Users/ernestolaval/Documents/Github Repositories/data_chile/data/processed/salud/defunciones/DEFUNCIONES_2003_2024.parquet\n"
     ]
    }
   ],
   "source": [
    "# Read and merge both files using the common structure\n",
    "df1 = pd.read_parquet(os.path.join(processed_dir, \"DEFUNCIONES_FUENTE_DEIS_2022_2024_25062024.parquet\"))\n",
    "df2 = pd.read_parquet(os.path.join(processed_dir, \"DEFUNCIONES_FUENTE_DEIS_1990_2021_CIFRAS_OFICIALES.parquet\"))\n",
    "\n",
    "# Concatenate dataframes\n",
    "df_combined = pd.concat([df1, df2], ignore_index=True)\n",
    "\n",
    "# Filter records with AÑO >= 2003\n",
    "df_filtered = df_combined[df_combined['AÑO'] >= 2003]\n",
    "\n",
    "# Save combined and filtered dataframe\n",
    "combined_parquet_path = os.path.join(processed_dir, \"DEFUNCIONES_2003_2024.parquet\")\n",
    "df_filtered.to_parquet(combined_parquet_path)\n",
    "print(f\"Combined and filtered DataFrame saved to {combined_parquet_path}\")"
   ]
  },
  {
   "cell_type": "code",
   "execution_count": null,
   "id": "fc779d66",
   "metadata": {},
   "outputs": [],
   "source": []
  }
 ],
 "metadata": {
  "kernelspec": {
   "display_name": "Python 3 (ipykernel)",
   "language": "python",
   "name": "python3"
  },
  "language_info": {
   "codemirror_mode": {
    "name": "ipython",
    "version": 3
   },
   "file_extension": ".py",
   "mimetype": "text/x-python",
   "name": "python",
   "nbconvert_exporter": "python",
   "pygments_lexer": "ipython3",
   "version": "3.11.7"
  }
 },
 "nbformat": 4,
 "nbformat_minor": 5
}
